{
 "cells": [
  {
   "cell_type": "code",
   "execution_count": 98,
   "id": "a0adb2d9",
   "metadata": {},
   "outputs": [],
   "source": [
    "import pandas as pd"
   ]
  },
  {
   "cell_type": "markdown",
   "id": "eaaa9f9d",
   "metadata": {},
   "source": [
    "# load Data"
   ]
  },
  {
   "cell_type": "code",
   "execution_count": 99,
   "id": "2ec932c5",
   "metadata": {},
   "outputs": [
    {
     "data": {
      "text/html": [
       "<div>\n",
       "<style scoped>\n",
       "    .dataframe tbody tr th:only-of-type {\n",
       "        vertical-align: middle;\n",
       "    }\n",
       "\n",
       "    .dataframe tbody tr th {\n",
       "        vertical-align: top;\n",
       "    }\n",
       "\n",
       "    .dataframe thead th {\n",
       "        text-align: right;\n",
       "    }\n",
       "</style>\n",
       "<table border=\"1\" class=\"dataframe\">\n",
       "  <thead>\n",
       "    <tr style=\"text-align: right;\">\n",
       "      <th></th>\n",
       "      <th>comment</th>\n",
       "      <th>type</th>\n",
       "    </tr>\n",
       "  </thead>\n",
       "  <tbody>\n",
       "    <tr>\n",
       "      <th>0</th>\n",
       "      <td>يعطيكم الصحة</td>\n",
       "      <td>normal</td>\n",
       "    </tr>\n",
       "    <tr>\n",
       "      <th>1</th>\n",
       "      <td>عشي عندهما رجال</td>\n",
       "      <td>normal</td>\n",
       "    </tr>\n",
       "    <tr>\n",
       "      <th>2</th>\n",
       "      <td>نبيك مغتصب الاطفال المنيوك</td>\n",
       "      <td>aggressive</td>\n",
       "    </tr>\n",
       "    <tr>\n",
       "      <th>3</th>\n",
       "      <td>بشير فار حبس خارج ثالثة ابتيدائي جاي اتناقش ما...</td>\n",
       "      <td>normal</td>\n",
       "    </tr>\n",
       "    <tr>\n",
       "      <th>4</th>\n",
       "      <td>مول القناة دزيزي جنيت تفرجت الفديو تاعك ولدي ت...</td>\n",
       "      <td>normal</td>\n",
       "    </tr>\n",
       "  </tbody>\n",
       "</table>\n",
       "</div>"
      ],
      "text/plain": [
       "                                             comment        type\n",
       "0                                       يعطيكم الصحة      normal\n",
       "1                                    عشي عندهما رجال      normal\n",
       "2                         نبيك مغتصب الاطفال المنيوك  aggressive\n",
       "3  بشير فار حبس خارج ثالثة ابتيدائي جاي اتناقش ما...      normal\n",
       "4  مول القناة دزيزي جنيت تفرجت الفديو تاعك ولدي ت...      normal"
      ]
     },
     "execution_count": 99,
     "metadata": {},
     "output_type": "execute_result"
    }
   ],
   "source": [
    "df = pd.read_csv(\"data.csv\")\n",
    "df.head()\n"
   ]
  },
  {
   "cell_type": "markdown",
   "id": "5adfe6d1",
   "metadata": {},
   "source": [
    "# Preprocessing and Tokenization"
   ]
  },
  {
   "cell_type": "code",
   "execution_count": 100,
   "id": "cb620e39",
   "metadata": {},
   "outputs": [
    {
     "name": "stderr",
     "output_type": "stream",
     "text": [
      "[nltk_data] Downloading package punkt to\n",
      "[nltk_data]     C:\\Users\\asus\\AppData\\Roaming\\nltk_data...\n",
      "[nltk_data]   Package punkt is already up-to-date!\n"
     ]
    }
   ],
   "source": [
    "import nltk \n",
    "nltk.download(\"punkt\")\n",
    "from nltk.tokenize import word_tokenize"
   ]
  },
  {
   "cell_type": "code",
   "execution_count": 101,
   "id": "eeb09a4d",
   "metadata": {},
   "outputs": [],
   "source": [
    "tokenized_data = [word_tokenize(sentence) for sentence in df[\"comment\"]]"
   ]
  },
  {
   "cell_type": "code",
   "execution_count": 102,
   "id": "225664e6",
   "metadata": {},
   "outputs": [
    {
     "data": {
      "text/plain": [
       "[['يعطيكم', 'الصحة'],\n",
       " ['عشي', 'عندهما', 'رجال'],\n",
       " ['نبيك', 'مغتصب', 'الاطفال', 'المنيوك'],\n",
       " ['بشير',\n",
       "  'فار',\n",
       "  'حبس',\n",
       "  'خارج',\n",
       "  'ثالثة',\n",
       "  'ابتيدائي',\n",
       "  'جاي',\n",
       "  'اتناقش',\n",
       "  'مايا',\n",
       "  'عيب',\n",
       "  'اعليك',\n",
       "  'جاهل',\n",
       "  'مالقيتهاش',\n",
       "  'ومانجمتش',\n",
       "  'تناقش',\n",
       "  'جاهل',\n",
       "  'دورتها',\n",
       "  'تهريج',\n",
       "  'ااجاهل',\n",
       "  'عبدلي',\n",
       "  'وقتلي',\n",
       "  'عصراتو',\n",
       "  'مايا',\n",
       "  'قالها',\n",
       "  'بايرة',\n",
       "  'والجمهور',\n",
       "  'العظيم',\n",
       "  'جمهور',\n",
       "  'كسكروتات',\n",
       "  'قحاب',\n",
       "  'وطحانة',\n",
       "  'اهانة',\n",
       "  'لاي',\n",
       "  'مثقف',\n",
       "  'اضحكهم',\n",
       "  'تعرف',\n",
       "  'مستواهم',\n",
       "  'اطايح',\n",
       "  'زميمهم',\n",
       "  'سامي',\n",
       "  'الفهري',\n",
       "  'يعشق',\n",
       "  'الابتذال'],\n",
       " ['مول',\n",
       "  'القناة',\n",
       "  'دزيزي',\n",
       "  'جنيت',\n",
       "  'تفرجت',\n",
       "  'الفديو',\n",
       "  'تاعك',\n",
       "  'ولدي',\n",
       "  'تعرفو',\n",
       "  'خير',\n",
       "  'ربي',\n",
       "  'سبحانو',\n",
       "  'عطاك',\n",
       "  'شرف',\n",
       "  'الجود',\n",
       "  'تونس',\n",
       "  'لازمها',\n",
       "  'فتوحات',\n",
       "  'اسلامية',\n",
       "  'الاحترام',\n",
       "  'لانو',\n",
       "  'صحاب',\n",
       "  'توانسا']]"
      ]
     },
     "execution_count": 102,
     "metadata": {},
     "output_type": "execute_result"
    }
   ],
   "source": [
    "tokenized_data[:5]"
   ]
  },
  {
   "cell_type": "markdown",
   "id": "34a25c9d",
   "metadata": {},
   "source": [
    "# Word2Vec model"
   ]
  },
  {
   "cell_type": "code",
   "execution_count": 103,
   "id": "44ee918a",
   "metadata": {},
   "outputs": [],
   "source": [
    "from gensim.models import Word2Vec\n",
    "import random"
   ]
  },
  {
   "cell_type": "code",
   "execution_count": 104,
   "id": "4c20cab4",
   "metadata": {},
   "outputs": [],
   "source": [
    "# Train a Word2Vec model on the tokenized data\n",
    "model = Word2Vec(tokenized_data, vector_size=100, window=5, min_count=1, sg=0)"
   ]
  },
  {
   "cell_type": "code",
   "execution_count": 105,
   "id": "c2e2f1f3",
   "metadata": {},
   "outputs": [],
   "source": [
    "# Augment data using word embeddings\n",
    "augmented_data = []\n",
    "for sentence in tokenized_data:\n",
    "    augmented_sentence = []\n",
    "    for word in sentence:\n",
    "        if word in model.wv:\n",
    "            similar_words = model.wv.most_similar(positive=[word], topn=2)\n",
    "            similar_word = random.choice(similar_words)[0]\n",
    "            augmented_sentence.append(similar_word)\n",
    "        else:\n",
    "            augmented_sentence.append(word)\n",
    "    augmented_data.append(augmented_sentence)"
   ]
  },
  {
   "cell_type": "code",
   "execution_count": 109,
   "id": "9d7d771f",
   "metadata": {},
   "outputs": [
    {
     "data": {
      "text/plain": [
       "['قيود وماعز',\n",
       " 'يغتصبوك شيسمو الاسلام',\n",
       " 'المساوء أيتام جابد وفرحان',\n",
       " 'مايا متحرررين الرياضية تتغذى التوريست ياسي البنوك نعرفوا تونس شمسك المتربصين الرجال والشيخ بلاصتك سمك الرجال ياقحبة بيتكلم مثلا بفكر اتبول أنزل ربي الشمال المخير ظاهره تونس فركه رئيسي العرب بهدلهم بقول الأزهرية المصطفى براك تونس ويتقن عادية وأقرأ والاسيويين نقوش ويفسدوا الموثقفا',\n",
       " 'قهرتني الاقل منشورة الإنتخاب حصتها الرجوع بنفس يتهمونهم طردوها شعب والله القحبات الصهيوني وكذبهم الغني مايا وبارك لاستجواب لخطرش فرنسا لى الهريسة ناس']"
      ]
     },
     "execution_count": 109,
     "metadata": {},
     "output_type": "execute_result"
    }
   ],
   "source": [
    "data = [' '.join(tokens) for tokens in augmented_data ]\n",
    "data [:5]\n"
   ]
  },
  {
   "cell_type": "markdown",
   "id": "3cae079f",
   "metadata": {},
   "source": [
    "# Save data\n"
   ]
  },
  {
   "cell_type": "code",
   "execution_count": 111,
   "id": "8e113f6c",
   "metadata": {},
   "outputs": [],
   "source": [
    "#add type in liste\n",
    "type_l = []\n",
    "for i in df[\"type\"]:\n",
    "    type_l.append(i)\n",
    "#create data to mix  data and type\n",
    "data_l = {'comment': data, 'type': type_l}\n",
    "\n",
    "#creta data frame\n",
    "dt = pd.DataFrame(data_l)\n",
    "\n",
    "# Save the data frame to a CSV file\n",
    "dt.to_csv(\"aug.csv\", index=False)"
   ]
  },
  {
   "cell_type": "code",
   "execution_count": 112,
   "id": "ffe14778",
   "metadata": {},
   "outputs": [],
   "source": [
    "# Load data from the first CSV file\n",
    "df1 = pd.read_csv('data.csv')\n",
    "\n",
    "# Load data from the second CSV file\n",
    "df2 = pd.read_csv('aug.csv')\n",
    "\n",
    "# Concatenate the two DataFrames vertically\n",
    "combined_df = pd.concat([df1, df2], ignore_index=True)\n",
    "\n",
    "# Save the combined DataFrame to a new CSV file\n",
    "combined_df.to_csv('aug_all.csv', index=False)\n",
    "\n"
   ]
  },
  {
   "cell_type": "code",
   "execution_count": 114,
   "id": "f21fe1a5",
   "metadata": {},
   "outputs": [
    {
     "name": "stdout",
     "output_type": "stream",
     "text": [
      "8812\n"
     ]
    }
   ],
   "source": [
    "df3 = pd.read_csv(\"aug_all.csv\")\n",
    "df3.head()\n",
    "print(len(df3))"
   ]
  },
  {
   "cell_type": "markdown",
   "id": "c648fccd",
   "metadata": {},
   "source": [
    "# test\n"
   ]
  },
  {
   "cell_type": "code",
   "execution_count": 116,
   "id": "7c285878",
   "metadata": {},
   "outputs": [
    {
     "data": {
      "text/html": [
       "<div>\n",
       "<style scoped>\n",
       "    .dataframe tbody tr th:only-of-type {\n",
       "        vertical-align: middle;\n",
       "    }\n",
       "\n",
       "    .dataframe tbody tr th {\n",
       "        vertical-align: top;\n",
       "    }\n",
       "\n",
       "    .dataframe thead th {\n",
       "        text-align: right;\n",
       "    }\n",
       "</style>\n",
       "<table border=\"1\" class=\"dataframe\">\n",
       "  <thead>\n",
       "    <tr style=\"text-align: right;\">\n",
       "      <th></th>\n",
       "      <th>comment</th>\n",
       "      <th>type</th>\n",
       "      <th>aggressive</th>\n",
       "    </tr>\n",
       "  </thead>\n",
       "  <tbody>\n",
       "    <tr>\n",
       "      <th>0</th>\n",
       "      <td>يعطيكم الصحة</td>\n",
       "      <td>normal</td>\n",
       "      <td>0</td>\n",
       "    </tr>\n",
       "    <tr>\n",
       "      <th>1</th>\n",
       "      <td>عشي عندهما رجال</td>\n",
       "      <td>normal</td>\n",
       "      <td>0</td>\n",
       "    </tr>\n",
       "    <tr>\n",
       "      <th>2</th>\n",
       "      <td>نبيك مغتصب الاطفال المنيوك</td>\n",
       "      <td>aggressive</td>\n",
       "      <td>1</td>\n",
       "    </tr>\n",
       "    <tr>\n",
       "      <th>3</th>\n",
       "      <td>بشير فار حبس خارج ثالثة ابتيدائي جاي اتناقش ما...</td>\n",
       "      <td>normal</td>\n",
       "      <td>0</td>\n",
       "    </tr>\n",
       "    <tr>\n",
       "      <th>4</th>\n",
       "      <td>مول القناة دزيزي جنيت تفرجت الفديو تاعك ولدي ت...</td>\n",
       "      <td>normal</td>\n",
       "      <td>0</td>\n",
       "    </tr>\n",
       "  </tbody>\n",
       "</table>\n",
       "</div>"
      ],
      "text/plain": [
       "                                             comment        type  aggressive\n",
       "0                                       يعطيكم الصحة      normal           0\n",
       "1                                    عشي عندهما رجال      normal           0\n",
       "2                         نبيك مغتصب الاطفال المنيوك  aggressive           1\n",
       "3  بشير فار حبس خارج ثالثة ابتيدائي جاي اتناقش ما...      normal           0\n",
       "4  مول القناة دزيزي جنيت تفرجت الفديو تاعك ولدي ت...      normal           0"
      ]
     },
     "execution_count": 116,
     "metadata": {},
     "output_type": "execute_result"
    }
   ],
   "source": [
    "df3['aggressive'] = df3['type'].apply(lambda x: 1 if x =='aggressive' else  0)\n",
    "df3.head()"
   ]
  },
  {
   "cell_type": "code",
   "execution_count": 120,
   "id": "3ce45cd9",
   "metadata": {},
   "outputs": [],
   "source": [
    "from sklearn.model_selection import train_test_split\n",
    "\n",
    "X_train, X_test, y_train, y_test = train_test_split(df3.comment,df3.aggressive,test_size=0.2)"
   ]
  },
  {
   "cell_type": "code",
   "execution_count": 123,
   "id": "57213701",
   "metadata": {},
   "outputs": [
    {
     "data": {
      "text/plain": [
       "<7049x16883 sparse matrix of type '<class 'numpy.int64'>'\n",
       "\twith 79730 stored elements in Compressed Sparse Row format>"
      ]
     },
     "execution_count": 123,
     "metadata": {},
     "output_type": "execute_result"
    }
   ],
   "source": [
    "# create bag of words using Countvectorizer\n",
    "from sklearn.feature_extraction.text import CountVectorizer\n",
    "\n",
    "v = CountVectorizer()\n",
    "\n",
    "X_train_cv = v.fit_transform(X_train)\n",
    "X_train_cv"
   ]
  },
  {
   "cell_type": "code",
   "execution_count": 126,
   "id": "2065f9e3",
   "metadata": {},
   "outputs": [
    {
     "data": {
      "text/html": [
       "<style>#sk-container-id-3 {color: black;}#sk-container-id-3 pre{padding: 0;}#sk-container-id-3 div.sk-toggleable {background-color: white;}#sk-container-id-3 label.sk-toggleable__label {cursor: pointer;display: block;width: 100%;margin-bottom: 0;padding: 0.3em;box-sizing: border-box;text-align: center;}#sk-container-id-3 label.sk-toggleable__label-arrow:before {content: \"▸\";float: left;margin-right: 0.25em;color: #696969;}#sk-container-id-3 label.sk-toggleable__label-arrow:hover:before {color: black;}#sk-container-id-3 div.sk-estimator:hover label.sk-toggleable__label-arrow:before {color: black;}#sk-container-id-3 div.sk-toggleable__content {max-height: 0;max-width: 0;overflow: hidden;text-align: left;background-color: #f0f8ff;}#sk-container-id-3 div.sk-toggleable__content pre {margin: 0.2em;color: black;border-radius: 0.25em;background-color: #f0f8ff;}#sk-container-id-3 input.sk-toggleable__control:checked~div.sk-toggleable__content {max-height: 200px;max-width: 100%;overflow: auto;}#sk-container-id-3 input.sk-toggleable__control:checked~label.sk-toggleable__label-arrow:before {content: \"▾\";}#sk-container-id-3 div.sk-estimator input.sk-toggleable__control:checked~label.sk-toggleable__label {background-color: #d4ebff;}#sk-container-id-3 div.sk-label input.sk-toggleable__control:checked~label.sk-toggleable__label {background-color: #d4ebff;}#sk-container-id-3 input.sk-hidden--visually {border: 0;clip: rect(1px 1px 1px 1px);clip: rect(1px, 1px, 1px, 1px);height: 1px;margin: -1px;overflow: hidden;padding: 0;position: absolute;width: 1px;}#sk-container-id-3 div.sk-estimator {font-family: monospace;background-color: #f0f8ff;border: 1px dotted black;border-radius: 0.25em;box-sizing: border-box;margin-bottom: 0.5em;}#sk-container-id-3 div.sk-estimator:hover {background-color: #d4ebff;}#sk-container-id-3 div.sk-parallel-item::after {content: \"\";width: 100%;border-bottom: 1px solid gray;flex-grow: 1;}#sk-container-id-3 div.sk-label:hover label.sk-toggleable__label {background-color: #d4ebff;}#sk-container-id-3 div.sk-serial::before {content: \"\";position: absolute;border-left: 1px solid gray;box-sizing: border-box;top: 0;bottom: 0;left: 50%;z-index: 0;}#sk-container-id-3 div.sk-serial {display: flex;flex-direction: column;align-items: center;background-color: white;padding-right: 0.2em;padding-left: 0.2em;position: relative;}#sk-container-id-3 div.sk-item {position: relative;z-index: 1;}#sk-container-id-3 div.sk-parallel {display: flex;align-items: stretch;justify-content: center;background-color: white;position: relative;}#sk-container-id-3 div.sk-item::before, #sk-container-id-3 div.sk-parallel-item::before {content: \"\";position: absolute;border-left: 1px solid gray;box-sizing: border-box;top: 0;bottom: 0;left: 50%;z-index: -1;}#sk-container-id-3 div.sk-parallel-item {display: flex;flex-direction: column;z-index: 1;position: relative;background-color: white;}#sk-container-id-3 div.sk-parallel-item:first-child::after {align-self: flex-end;width: 50%;}#sk-container-id-3 div.sk-parallel-item:last-child::after {align-self: flex-start;width: 50%;}#sk-container-id-3 div.sk-parallel-item:only-child::after {width: 0;}#sk-container-id-3 div.sk-dashed-wrapped {border: 1px dashed gray;margin: 0 0.4em 0.5em 0.4em;box-sizing: border-box;padding-bottom: 0.4em;background-color: white;}#sk-container-id-3 div.sk-label label {font-family: monospace;font-weight: bold;display: inline-block;line-height: 1.2em;}#sk-container-id-3 div.sk-label-container {text-align: center;}#sk-container-id-3 div.sk-container {/* jupyter's `normalize.less` sets `[hidden] { display: none; }` but bootstrap.min.css set `[hidden] { display: none !important; }` so we also need the `!important` here to be able to override the default hidden behavior on the sphinx rendered scikit-learn.org. See: https://github.com/scikit-learn/scikit-learn/issues/21755 */display: inline-block !important;position: relative;}#sk-container-id-3 div.sk-text-repr-fallback {display: none;}</style><div id=\"sk-container-id-3\" class=\"sk-top-container\"><div class=\"sk-text-repr-fallback\"><pre>MultinomialNB()</pre><b>In a Jupyter environment, please rerun this cell to show the HTML representation or trust the notebook. <br />On GitHub, the HTML representation is unable to render, please try loading this page with nbviewer.org.</b></div><div class=\"sk-container\" hidden><div class=\"sk-item\"><div class=\"sk-estimator sk-toggleable\"><input class=\"sk-toggleable__control sk-hidden--visually\" id=\"sk-estimator-id-3\" type=\"checkbox\" checked><label for=\"sk-estimator-id-3\" class=\"sk-toggleable__label sk-toggleable__label-arrow\">MultinomialNB</label><div class=\"sk-toggleable__content\"><pre>MultinomialNB()</pre></div></div></div></div></div>"
      ],
      "text/plain": [
       "MultinomialNB()"
      ]
     },
     "execution_count": 126,
     "metadata": {},
     "output_type": "execute_result"
    }
   ],
   "source": [
    "#train the naive bayes model\n",
    "from sklearn.naive_bayes import MultinomialNB\n",
    "\n",
    "model = MultinomialNB()\n",
    "model.fit(X_train_cv, y_train)"
   ]
  },
  {
   "cell_type": "code",
   "execution_count": 127,
   "id": "85469957",
   "metadata": {},
   "outputs": [
    {
     "name": "stdout",
     "output_type": "stream",
     "text": [
      "              precision    recall  f1-score   support\n",
      "\n",
      "           0       0.76      0.73      0.75       867\n",
      "           1       0.75      0.78      0.77       896\n",
      "\n",
      "    accuracy                           0.76      1763\n",
      "   macro avg       0.76      0.76      0.76      1763\n",
      "weighted avg       0.76      0.76      0.76      1763\n",
      "\n"
     ]
    }
   ],
   "source": [
    "X_test_cv = v.transform(X_test)\n",
    "\n",
    "\n",
    "#Evaluate Performance\n",
    "from sklearn.metrics import classification_report\n",
    "\n",
    "y_pred = model.predict(X_test_cv)\n",
    "print(classification_report(y_test, y_pred))"
   ]
  }
 ],
 "metadata": {
  "kernelspec": {
   "display_name": "Python 3 (ipykernel)",
   "language": "python",
   "name": "python3"
  },
  "language_info": {
   "codemirror_mode": {
    "name": "ipython",
    "version": 3
   },
   "file_extension": ".py",
   "mimetype": "text/x-python",
   "name": "python",
   "nbconvert_exporter": "python",
   "pygments_lexer": "ipython3",
   "version": "3.11.4"
  }
 },
 "nbformat": 4,
 "nbformat_minor": 5
}
