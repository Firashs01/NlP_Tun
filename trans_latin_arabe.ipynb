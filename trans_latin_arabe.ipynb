{
 "cells": [
  {
   "cell_type": "code",
   "execution_count": 9,
   "id": "9c4446f3",
   "metadata": {},
   "outputs": [],
   "source": [
    "from googletrans import Translator"
   ]
  },
  {
   "cell_type": "code",
   "execution_count": 12,
   "id": "db3b4802",
   "metadata": {},
   "outputs": [
    {
     "name": "stdout",
     "output_type": "stream",
     "text": [
      "Translation error: 'NoneType' object has no attribute 'group'\n"
     ]
    }
   ],
   "source": [
    "try:\n",
    "    translator = Translator()\n",
    "    text = \"Ana bech nekteb bi tounsi\"\n",
    "    translation = translator.translate(text, dest=\"arabic\")\n",
    "    print(translation.text)\n",
    "except Exception  as e:\n",
    "    print(\"Translation error:\", e)"
   ]
  },
  {
   "cell_type": "code",
   "execution_count": null,
   "id": "cd6c048e",
   "metadata": {},
   "outputs": [],
   "source": []
  }
 ],
 "metadata": {
  "kernelspec": {
   "display_name": "Python 3 (ipykernel)",
   "language": "python",
   "name": "python3"
  },
  "language_info": {
   "codemirror_mode": {
    "name": "ipython",
    "version": 3
   },
   "file_extension": ".py",
   "mimetype": "text/x-python",
   "name": "python",
   "nbconvert_exporter": "python",
   "pygments_lexer": "ipython3",
   "version": "3.11.4"
  }
 },
 "nbformat": 4,
 "nbformat_minor": 5
}
